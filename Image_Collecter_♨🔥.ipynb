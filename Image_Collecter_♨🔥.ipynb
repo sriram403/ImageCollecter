{
 "cells": [
  {
   "cell_type": "markdown",
   "id": "6e0e5f51",
   "metadata": {},
   "source": [
    "# Writing Web Scrapping Code to Collect Images From Google"
   ]
  },
  {
   "cell_type": "markdown",
   "id": "85d9ebb7",
   "metadata": {},
   "source": [
    "## loading the Libraries Necessaries"
   ]
  },
  {
   "cell_type": "code",
   "execution_count": 28,
   "id": "e14d5e1c",
   "metadata": {},
   "outputs": [],
   "source": [
    "from selenium import webdriver\n",
    "from selenium.webdriver.common.keys import Keys\n",
    "from bs4 import BeautifulSoup\n",
    "import time\n",
    "import os \n",
    "import requests\n",
    "import urllib"
   ]
  },
  {
   "cell_type": "markdown",
   "id": "be428f40",
   "metadata": {},
   "source": [
    "## Which Person Image do you Want to download And How much Images Do you Need"
   ]
  },
  {
   "cell_type": "code",
   "execution_count": 29,
   "id": "4a5a03e0",
   "metadata": {},
   "outputs": [],
   "source": [
    "class_name = \"My favourite\"\n",
    "search_term = \"Elon Musk\"\n",
    "Images_needed = 30"
   ]
  },
  {
   "cell_type": "markdown",
   "id": "e91d882c",
   "metadata": {},
   "source": [
    "## Setting according to your prefrences (with and without browser opening while collecting image)"
   ]
  },
  {
   "cell_type": "code",
   "execution_count": 30,
   "id": "b8901e3d",
   "metadata": {},
   "outputs": [],
   "source": [
    "# #To run without browser opening\n",
    "# op = webdriver.ChromeOptions()\n",
    "# op.add_argument('headless')\n",
    "# driver = webdriver.Chrome(options=op)\n",
    "# driver.get(\"https://google.com\")"
   ]
  },
  {
   "cell_type": "code",
   "execution_count": 34,
   "id": "4f74fcbc",
   "metadata": {},
   "outputs": [],
   "source": [
    "#to open browser while running (we can visualize)\n",
    "driver = webdriver.Chrome()\n",
    "driver.get(\"https://google.com\")"
   ]
  },
  {
   "cell_type": "markdown",
   "id": "1447d6c9",
   "metadata": {},
   "source": [
    "## Setting the SearchBar in google And Entering the className"
   ]
  },
  {
   "cell_type": "code",
   "execution_count": 35,
   "id": "d49342ce",
   "metadata": {},
   "outputs": [],
   "source": [
    "box = driver.find_element(\"xpath\",\"/html/body/div[1]/div[3]/form/div[1]/div[1]/div[1]/div/div[2]/input\")\n",
    "box.send_keys(search_term)\n",
    "box.send_keys(Keys.ENTER)"
   ]
  },
  {
   "cell_type": "markdown",
   "id": "fbd0fe3b",
   "metadata": {},
   "source": [
    "## moving to the images tab in google"
   ]
  },
  {
   "cell_type": "code",
   "execution_count": 36,
   "id": "810a6db8",
   "metadata": {},
   "outputs": [],
   "source": [
    "driver.find_element(\"xpath\",\"//*[@id='hdtb-msb']/div[1]/div/div[2]/a\").click()"
   ]
  },
  {
   "cell_type": "markdown",
   "id": "cefbc468",
   "metadata": {},
   "source": [
    "## Getting the right amount of images needed from all the images in google images tab"
   ]
  },
  {
   "cell_type": "code",
   "execution_count": 37,
   "id": "29139ff6",
   "metadata": {},
   "outputs": [
    {
     "name": "stdout",
     "output_type": "stream",
     "text": [
      "finished_scrolling\n"
     ]
    }
   ],
   "source": [
    "starting_length = driver.execute_script(\"return document.body.scrollHeight\")\n",
    "finished_length = starting_length+1\n",
    "Find_Images = True\n",
    "while (starting_length != finished_length) & (Find_Images):\n",
    "    starting_length = driver.execute_script(\"return document.body.scrollHeight\")\n",
    "    driver.execute_script(\"window.scrollTo(0,document.body.scrollHeight)\")\n",
    "    soup = BeautifulSoup(driver.page_source,\"lxml\")\n",
    "    all_images = soup.find_all(\"div\",class_=\"isv-r PNCib MSM1fd BUooTd\")\n",
    "    try:\n",
    "        all_images = soup.find_all(\"div\",class_=\"isv-r PNCib MSM1fd BUooTd\")\n",
    "        if len(all_images) <= Images_needed:\n",
    "            time.sleep(5)\n",
    "            finished_length = driver.execute_script(\"return document.body.scrollHeight\")\n",
    "        else:\n",
    "            all_images = soup.find_all(\"div\",class_=\"isv-r PNCib MSM1fd BUooTd\")\n",
    "            Find_Images = False\n",
    "    except Exception as e:\n",
    "        print(f\"the exception occured as: {e}\")\n",
    "print(\"finished_scrolling\")"
   ]
  },
  {
   "cell_type": "markdown",
   "id": "2b49b30a",
   "metadata": {},
   "source": [
    "### Trying the challenge"
   ]
  },
  {
   "cell_type": "code",
   "execution_count": 38,
   "id": "b0fca2dd",
   "metadata": {},
   "outputs": [
    {
     "name": "stdout",
     "output_type": "stream",
     "text": [
      "finished_scrolling\n"
     ]
    }
   ],
   "source": [
    "all_details = soup.find_all(\"div\",class_=\"isv-r PNCib MSM1fd BUooTd\")\n",
    "if len(all_details) == 0 :\n",
    "    driver.find_element(\"xpath\",'//*[@id=\"hdtb-msb\"]/div[1]/div/div[3]/a').click()\n",
    "    starting_length = driver.execute_script(\"return document.body.scrollHeight\")\n",
    "    finished_length = starting_length+1\n",
    "    Find_Images = True\n",
    "    while (starting_length != finished_length) & (Find_Images):\n",
    "        starting_length = driver.execute_script(\"return document.body.scrollHeight\")\n",
    "        driver.execute_script(\"window.scrollTo(0,document.body.scrollHeight)\")\n",
    "        soup = BeautifulSoup(driver.page_source,\"lxml\")\n",
    "        all_images = soup.find_all(\"div\",class_=\"isv-r PNCib MSM1fd BUooTd\")\n",
    "        try:\n",
    "            all_images = soup.find_all(\"div\",class_=\"isv-r PNCib MSM1fd BUooTd\")\n",
    "            if len(all_images) <= Images_needed:\n",
    "                time.sleep(5)\n",
    "                finished_length = driver.execute_script(\"return document.body.scrollHeight\")\n",
    "            else:\n",
    "                all_images = soup.find_all(\"div\",class_=\"isv-r PNCib MSM1fd BUooTd\")\n",
    "                Find_Images = False\n",
    "        except Exception as e:\n",
    "            print(f\"the exception occured as: {e}\")\n",
    "    print(\"finished_scrolling\")    \n",
    "    all_details=soup.find_all(\"div\",class_=\"isv-r PNCib MSM1fd BUooTd\")"
   ]
  },
  {
   "cell_type": "markdown",
   "id": "6913023a",
   "metadata": {},
   "source": [
    "## Checking how many images we have "
   ]
  },
  {
   "cell_type": "code",
   "execution_count": 39,
   "id": "e46386dc",
   "metadata": {},
   "outputs": [],
   "source": [
    "# soup = BeautifulSoup(driver.page_source,\"html.parser\")\n",
    "soup = BeautifulSoup(driver.page_source,\"html5lib\")"
   ]
  },
  {
   "cell_type": "code",
   "execution_count": 40,
   "id": "d36ce9b5",
   "metadata": {},
   "outputs": [
    {
     "data": {
      "text/plain": [
       "100"
      ]
     },
     "execution_count": 40,
     "metadata": {},
     "output_type": "execute_result"
    }
   ],
   "source": [
    "all_images = soup.find_all(\"div\",class_=\"isv-r PNCib MSM1fd BUooTd\")\n",
    "len(all_images)"
   ]
  },
  {
   "cell_type": "code",
   "execution_count": 41,
   "id": "c3dc0795",
   "metadata": {},
   "outputs": [
    {
     "data": {
      "text/plain": [
       "100"
      ]
     },
     "execution_count": 41,
     "metadata": {},
     "output_type": "execute_result"
    }
   ],
   "source": [
    "import pandas as pd\n",
    "index = int(len(all_images))\n",
    "index"
   ]
  },
  {
   "cell_type": "code",
   "execution_count": 42,
   "id": "55a483fe",
   "metadata": {},
   "outputs": [
    {
     "data": {
      "text/html": [
       "<div>\n",
       "<style scoped>\n",
       "    .dataframe tbody tr th:only-of-type {\n",
       "        vertical-align: middle;\n",
       "    }\n",
       "\n",
       "    .dataframe tbody tr th {\n",
       "        vertical-align: top;\n",
       "    }\n",
       "\n",
       "    .dataframe thead th {\n",
       "        text-align: right;\n",
       "    }\n",
       "</style>\n",
       "<table border=\"1\" class=\"dataframe\">\n",
       "  <thead>\n",
       "    <tr style=\"text-align: right;\">\n",
       "      <th></th>\n",
       "      <th>Blog_Link</th>\n",
       "      <th>Title</th>\n",
       "      <th>Source_Name</th>\n",
       "    </tr>\n",
       "  </thead>\n",
       "  <tbody>\n",
       "  </tbody>\n",
       "</table>\n",
       "</div>"
      ],
      "text/plain": [
       "Empty DataFrame\n",
       "Columns: [Blog_Link, Title, Source_Name]\n",
       "Index: []"
      ]
     },
     "execution_count": 42,
     "metadata": {},
     "output_type": "execute_result"
    }
   ],
   "source": [
    "dataframe = pd.DataFrame(columns=[\"Blog_Link\",\"Title\",\"Source_Name\"])\n",
    "dataframe"
   ]
  },
  {
   "cell_type": "code",
   "execution_count": 43,
   "id": "4ed1e667",
   "metadata": {},
   "outputs": [
    {
     "data": {
      "text/html": [
       "<div>\n",
       "<style scoped>\n",
       "    .dataframe tbody tr th:only-of-type {\n",
       "        vertical-align: middle;\n",
       "    }\n",
       "\n",
       "    .dataframe tbody tr th {\n",
       "        vertical-align: top;\n",
       "    }\n",
       "\n",
       "    .dataframe thead th {\n",
       "        text-align: right;\n",
       "    }\n",
       "</style>\n",
       "<table border=\"1\" class=\"dataframe\">\n",
       "  <thead>\n",
       "    <tr style=\"text-align: right;\">\n",
       "      <th></th>\n",
       "      <th>Blog_Link</th>\n",
       "      <th>Title</th>\n",
       "      <th>Source_Name</th>\n",
       "    </tr>\n",
       "  </thead>\n",
       "  <tbody>\n",
       "    <tr>\n",
       "      <th>0</th>\n",
       "      <td>https://en.wikipedia.org/wiki/Elon_Musk</td>\n",
       "      <td>Elon Musk - Wikipedia</td>\n",
       "      <td>Wikipedia</td>\n",
       "    </tr>\n",
       "    <tr>\n",
       "      <th>1</th>\n",
       "      <td>https://www.britannica.com/biography/Elon-Musk</td>\n",
       "      <td>Elon Musk | Biography, SpaceX, Tesla, Twitter,...</td>\n",
       "      <td>Encyclopedia Britannica</td>\n",
       "    </tr>\n",
       "    <tr>\n",
       "      <th>2</th>\n",
       "      <td>https://www.biography.com/business-figure/elon...</td>\n",
       "      <td>Elon Musk - Tesla, Age &amp; Family - Biography</td>\n",
       "      <td>bio. Biography.com</td>\n",
       "    </tr>\n",
       "    <tr>\n",
       "      <th>3</th>\n",
       "      <td>https://robbreport.com/lifestyle/news/elon-mus...</td>\n",
       "      <td>Elon Musk Is the First Person to Lose $200 Bil...</td>\n",
       "      <td>Robb Report</td>\n",
       "    </tr>\n",
       "    <tr>\n",
       "      <th>4</th>\n",
       "      <td>https://www.britannica.com/biography/Elon-Musk</td>\n",
       "      <td>Elon Musk | Biography, SpaceX, Tesla, Twitter,...</td>\n",
       "      <td>Encyclopedia Britannica</td>\n",
       "    </tr>\n",
       "  </tbody>\n",
       "</table>\n",
       "</div>"
      ],
      "text/plain": [
       "                                           Blog_Link  \\\n",
       "0            https://en.wikipedia.org/wiki/Elon_Musk   \n",
       "1     https://www.britannica.com/biography/Elon-Musk   \n",
       "2  https://www.biography.com/business-figure/elon...   \n",
       "3  https://robbreport.com/lifestyle/news/elon-mus...   \n",
       "4     https://www.britannica.com/biography/Elon-Musk   \n",
       "\n",
       "                                               Title              Source_Name  \n",
       "0                              Elon Musk - Wikipedia                Wikipedia  \n",
       "1  Elon Musk | Biography, SpaceX, Tesla, Twitter,...  Encyclopedia Britannica  \n",
       "2        Elon Musk - Tesla, Age & Family - Biography       bio. Biography.com  \n",
       "3  Elon Musk Is the First Person to Lose $200 Bil...              Robb Report  \n",
       "4  Elon Musk | Biography, SpaceX, Tesla, Twitter,...  Encyclopedia Britannica  "
      ]
     },
     "execution_count": 43,
     "metadata": {},
     "output_type": "execute_result"
    }
   ],
   "source": [
    "for detail in all_details[:index]:\n",
    "    link_and_title = detail.find(\"a\",class_=\"VFACy kGQAp sMi44c d0NI4c lNHeqe WGvvNb\")\n",
    "    link = link_and_title.get(\"href\")\n",
    "    title = link_and_title.get(\"title\")\n",
    "    source = link_and_title.find(\"div\",class_=\"dmeZbb\").text\n",
    "    dataframe = pd.concat([dataframe,pd.DataFrame({dataframe.columns[0]:[link],dataframe.columns[1]:[title],\n",
    "                                                    dataframe.columns[2]:[source]})],ignore_index=True)\n",
    "dataframe.head()"
   ]
  },
  {
   "cell_type": "markdown",
   "id": "fe13b040",
   "metadata": {},
   "source": [
    "## Creating a folder with a Class_name"
   ]
  },
  {
   "cell_type": "code",
   "execution_count": 44,
   "id": "78be81f0",
   "metadata": {},
   "outputs": [],
   "source": [
    "path = os.path.join(os.getcwd(),f\"{class_name}\")\n",
    "os.makedirs(path,exist_ok=True)    "
   ]
  },
  {
   "cell_type": "code",
   "execution_count": 45,
   "id": "67296e40",
   "metadata": {},
   "outputs": [],
   "source": [
    "# os.listdir(path)"
   ]
  },
  {
   "cell_type": "markdown",
   "id": "516fcf21",
   "metadata": {},
   "source": [
    "## Final Total Number Of Images"
   ]
  },
  {
   "cell_type": "code",
   "execution_count": 46,
   "id": "214f3b0e",
   "metadata": {},
   "outputs": [],
   "source": [
    "# #to get a image file without compression\n",
    "# import urllib.request\n",
    "# image_url = \"give any image url from google we can get a image file without compression :)\"\n",
    "# request = urllib.request.Request(image_url, headers={\"Accept-Encoding\": \"identity\"})\n",
    "# response = urllib.request.urlopen(request)\n",
    "# with open(\"image.jpg\", \"wb\") as f:\n",
    "#     f.write(response.read())"
   ]
  },
  {
   "cell_type": "code",
   "execution_count": 48,
   "id": "b0eb58e6",
   "metadata": {},
   "outputs": [
    {
     "data": {
      "text/html": [
       "<div>\n",
       "<style scoped>\n",
       "    .dataframe tbody tr th:only-of-type {\n",
       "        vertical-align: middle;\n",
       "    }\n",
       "\n",
       "    .dataframe tbody tr th {\n",
       "        vertical-align: top;\n",
       "    }\n",
       "\n",
       "    .dataframe thead th {\n",
       "        text-align: right;\n",
       "    }\n",
       "</style>\n",
       "<table border=\"1\" class=\"dataframe\">\n",
       "  <thead>\n",
       "    <tr style=\"text-align: right;\">\n",
       "      <th></th>\n",
       "      <th>Blog_Link</th>\n",
       "      <th>Title</th>\n",
       "      <th>Source_Name</th>\n",
       "      <th>Images</th>\n",
       "    </tr>\n",
       "  </thead>\n",
       "  <tbody>\n",
       "    <tr>\n",
       "      <th>0</th>\n",
       "      <td>https://en.wikipedia.org/wiki/Elon_Musk</td>\n",
       "      <td>Elon Musk - Wikipedia</td>\n",
       "      <td>Wikipedia</td>\n",
       "      <td>data:image/jpeg;base64,/9j/4AAQSkZJRgABAQAAAQA...</td>\n",
       "    </tr>\n",
       "    <tr>\n",
       "      <th>1</th>\n",
       "      <td>https://www.britannica.com/biography/Elon-Musk</td>\n",
       "      <td>Elon Musk | Biography, SpaceX, Tesla, Twitter,...</td>\n",
       "      <td>Encyclopedia Britannica</td>\n",
       "      <td>data:image/jpeg;base64,/9j/4AAQSkZJRgABAQAAAQA...</td>\n",
       "    </tr>\n",
       "    <tr>\n",
       "      <th>2</th>\n",
       "      <td>https://www.biography.com/business-figure/elon...</td>\n",
       "      <td>Elon Musk - Tesla, Age &amp; Family - Biography</td>\n",
       "      <td>bio. Biography.com</td>\n",
       "      <td>data:image/jpeg;base64,/9j/4AAQSkZJRgABAQAAAQA...</td>\n",
       "    </tr>\n",
       "    <tr>\n",
       "      <th>3</th>\n",
       "      <td>https://robbreport.com/lifestyle/news/elon-mus...</td>\n",
       "      <td>Elon Musk Is the First Person to Lose $200 Bil...</td>\n",
       "      <td>Robb Report</td>\n",
       "      <td>data:image/jpeg;base64,/9j/4AAQSkZJRgABAQAAAQA...</td>\n",
       "    </tr>\n",
       "    <tr>\n",
       "      <th>4</th>\n",
       "      <td>https://www.britannica.com/biography/Elon-Musk</td>\n",
       "      <td>Elon Musk | Biography, SpaceX, Tesla, Twitter,...</td>\n",
       "      <td>Encyclopedia Britannica</td>\n",
       "      <td>data:image/jpeg;base64,/9j/4AAQSkZJRgABAQAAAQA...</td>\n",
       "    </tr>\n",
       "    <tr>\n",
       "      <th>5</th>\n",
       "      <td>https://www.cnbc.com/2023/01/07/elon-musk-atto...</td>\n",
       "      <td>Elon Musk attorneys aim to move trial from Cal...</td>\n",
       "      <td>CNBC</td>\n",
       "      <td>data:image/jpeg;base64,/9j/4AAQSkZJRgABAQAAAQA...</td>\n",
       "    </tr>\n",
       "    <tr>\n",
       "      <th>6</th>\n",
       "      <td>https://www.theguardian.com/technology/2023/ja...</td>\n",
       "      <td>Elon Musk seeks to move trial out of San Franc...</td>\n",
       "      <td>The Guardian</td>\n",
       "      <td>data:image/jpeg;base64,/9j/4AAQSkZJRgABAQAAAQA...</td>\n",
       "    </tr>\n",
       "    <tr>\n",
       "      <th>7</th>\n",
       "      <td>https://www.guinnessworldrecords.com/news/2023...</td>\n",
       "      <td>Elon Musk suffers worst loss of fortune in his...</td>\n",
       "      <td>Guinness World Records</td>\n",
       "      <td>data:image/jpeg;base64,/9j/4AAQSkZJRgABAQAAAQA...</td>\n",
       "    </tr>\n",
       "    <tr>\n",
       "      <th>8</th>\n",
       "      <td>https://www.businessinsider.in/tech/news/a-twi...</td>\n",
       "      <td>Self-proclaimed Twitter investor mocks Elon Mu...</td>\n",
       "      <td>Business Insider India</td>\n",
       "      <td>data:image/jpeg;base64,/9j/4AAQSkZJRgABAQAAAQA...</td>\n",
       "    </tr>\n",
       "    <tr>\n",
       "      <th>9</th>\n",
       "      <td>https://www.business-standard.com/about/who-is...</td>\n",
       "      <td>Who is Elon Musk: Latest News on Elon Musk, To...</td>\n",
       "      <td>Business Standard</td>\n",
       "      <td>data:image/jpeg;base64,/9j/4AAQSkZJRgABAQAAAQA...</td>\n",
       "    </tr>\n",
       "    <tr>\n",
       "      <th>10</th>\n",
       "      <td>https://www.businessinsider.com/the-rise-of-el...</td>\n",
       "      <td>Elon Musk's Life Story: Tesla CEO's Early Year...</td>\n",
       "      <td>Business Insider</td>\n",
       "      <td>data:image/jpeg;base64,/9j/4AAQSkZJRgABAQAAAQA...</td>\n",
       "    </tr>\n",
       "    <tr>\n",
       "      <th>11</th>\n",
       "      <td>https://www.cnbc.com/2022/12/12/elon-musk-is-n...</td>\n",
       "      <td>Elon Musk is no longer the richest person in t...</td>\n",
       "      <td>CNBC</td>\n",
       "      <td>data:image/jpeg;base64,/9j/4AAQSkZJRgABAQAAAQA...</td>\n",
       "    </tr>\n",
       "    <tr>\n",
       "      <th>12</th>\n",
       "      <td>https://www.cnbc.com/2020/05/26/elon-musk-on-h...</td>\n",
       "      <td>Elon Musk on his success: 'America is the land...</td>\n",
       "      <td>CNBC</td>\n",
       "      <td>data:image/jpeg;base64,/9j/4AAQSkZJRgABAQAAAQA...</td>\n",
       "    </tr>\n",
       "    <tr>\n",
       "      <th>13</th>\n",
       "      <td>https://www.businesstoday.in/latest/trends/sto...</td>\n",
       "      <td>Elon Musk claims there's 'quite a significant'...</td>\n",
       "      <td>Business Today</td>\n",
       "      <td>data:image/jpeg;base64,/9j/4AAQSkZJRgABAQAAAQA...</td>\n",
       "    </tr>\n",
       "    <tr>\n",
       "      <th>14</th>\n",
       "      <td>https://www.investopedia.com/articles/personal...</td>\n",
       "      <td>Who Is Elon Musk?</td>\n",
       "      <td>Investopedia</td>\n",
       "      <td>data:image/jpeg;base64,/9j/4AAQSkZJRgABAQAAAQA...</td>\n",
       "    </tr>\n",
       "    <tr>\n",
       "      <th>15</th>\n",
       "      <td>https://www.bbc.com/news/business-63408384</td>\n",
       "      <td>Elon Musk claims he's buying Twitter to 'help ...</td>\n",
       "      <td>BBC</td>\n",
       "      <td>data:image/jpeg;base64,/9j/4AAQSkZJRgABAQAAAQA...</td>\n",
       "    </tr>\n",
       "    <tr>\n",
       "      <th>16</th>\n",
       "      <td>https://www.bloomberg.com/news/articles/2022-1...</td>\n",
       "      <td>Elon Musk Becomes First Person Ever to Lose $2...</td>\n",
       "      <td>Bloomberg.com</td>\n",
       "      <td>data:image/jpeg;base64,/9j/4AAQSkZJRgABAQAAAQA...</td>\n",
       "    </tr>\n",
       "    <tr>\n",
       "      <th>17</th>\n",
       "      <td>https://www.wired.com/story/twitter-elon-musk-...</td>\n",
       "      <td>Elon Musk Is Overloaded | WIRED</td>\n",
       "      <td>WIRED</td>\n",
       "      <td>data:image/jpeg;base64,/9j/4AAQSkZJRgABAQAAAQA...</td>\n",
       "    </tr>\n",
       "    <tr>\n",
       "      <th>18</th>\n",
       "      <td>https://finance.yahoo.com/news/elon-musk-destr...</td>\n",
       "      <td>Elon Musk has destroyed more than half of Twit...</td>\n",
       "      <td>Yahoo Finance</td>\n",
       "      <td>data:image/jpeg;base64,/9j/4AAQSkZJRgABAQAAAQA...</td>\n",
       "    </tr>\n",
       "    <tr>\n",
       "      <th>19</th>\n",
       "      <td>https://www.aljazeera.com/economy/2022/10/28/e...</td>\n",
       "      <td>Elon Musk takes over Twitter in $44bn deal | T...</td>\n",
       "      <td>Al Jazeera</td>\n",
       "      <td>data:image/jpeg;base64,/9j/4AAQSkZJRgABAQAAAQA...</td>\n",
       "    </tr>\n",
       "    <tr>\n",
       "      <th>20</th>\n",
       "      <td>https://www.livemint.com/news/world/elon-musk-...</td>\n",
       "      <td>Elon Musk creates history…in losing money | Mint</td>\n",
       "      <td>Mint</td>\n",
       "      <td>https://encrypted-tbn0.gstatic.com/images?q=tb...</td>\n",
       "    </tr>\n",
       "    <tr>\n",
       "      <th>21</th>\n",
       "      <td>https://www.moneycontrol.com/news/business/mar...</td>\n",
       "      <td>Elon Musk is now the first person ever to lose...</td>\n",
       "      <td>Moneycontrol</td>\n",
       "      <td>https://encrypted-tbn0.gstatic.com/images?q=tb...</td>\n",
       "    </tr>\n",
       "    <tr>\n",
       "      <th>22</th>\n",
       "      <td>https://www.wsj.com/articles/elon-musk-invokes...</td>\n",
       "      <td>Elon Musk Invokes Twitter Succession Without G...</td>\n",
       "      <td>The Wall Street Journal</td>\n",
       "      <td>https://encrypted-tbn0.gstatic.com/images?q=tb...</td>\n",
       "    </tr>\n",
       "    <tr>\n",
       "      <th>23</th>\n",
       "      <td>https://www.cnbc.com/2020/07/29/elon-musk-deep...</td>\n",
       "      <td>Elon Musk says DeepMind is his 'top concern' w...</td>\n",
       "      <td>CNBC</td>\n",
       "      <td>https://encrypted-tbn0.gstatic.com/images?q=tb...</td>\n",
       "    </tr>\n",
       "    <tr>\n",
       "      <th>24</th>\n",
       "      <td>https://www.youtube.com/watch?v=cdZZpaB2kDM</td>\n",
       "      <td>Elon Musk talks Twitter, Tesla and how his bra...</td>\n",
       "      <td>YouTube</td>\n",
       "      <td>https://encrypted-tbn0.gstatic.com/images?q=tb...</td>\n",
       "    </tr>\n",
       "    <tr>\n",
       "      <th>25</th>\n",
       "      <td>https://www.koimoi.com/hollywood-news/amber-he...</td>\n",
       "      <td>Amber Heard Wanted To Get Married To Elon Musk...</td>\n",
       "      <td>Koimoi</td>\n",
       "      <td>https://encrypted-tbn0.gstatic.com/images?q=tb...</td>\n",
       "    </tr>\n",
       "    <tr>\n",
       "      <th>26</th>\n",
       "      <td>https://www.foxbusiness.com/markets/elon-musk-...</td>\n",
       "      <td>Elon Musk tweets 'the bird is freed' after fin...</td>\n",
       "      <td>Fox Business</td>\n",
       "      <td>https://encrypted-tbn0.gstatic.com/images?q=tb...</td>\n",
       "    </tr>\n",
       "    <tr>\n",
       "      <th>27</th>\n",
       "      <td>https://m.economictimes.com/magazines/panache/...</td>\n",
       "      <td>Elon Musk News: Elon Musk is 'fit, ripped &amp; he...</td>\n",
       "      <td>The Economic Times</td>\n",
       "      <td>https://encrypted-tbn0.gstatic.com/images?q=tb...</td>\n",
       "    </tr>\n",
       "    <tr>\n",
       "      <th>28</th>\n",
       "      <td>https://www.npr.org/2022/06/01/1102513281/elon...</td>\n",
       "      <td>Elon Musk tells employees to return to the off...</td>\n",
       "      <td>NPR</td>\n",
       "      <td>https://encrypted-tbn0.gstatic.com/images?q=tb...</td>\n",
       "    </tr>\n",
       "    <tr>\n",
       "      <th>29</th>\n",
       "      <td>https://www.nbcnews.com/business/business-news...</td>\n",
       "      <td>Elon Musk now leading Twitter, ushering in lik...</td>\n",
       "      <td>NBC News</td>\n",
       "      <td>https://encrypted-tbn0.gstatic.com/images?q=tb...</td>\n",
       "    </tr>\n",
       "    <tr>\n",
       "      <th>30</th>\n",
       "      <td>https://www.forbes.com/sites/joewalsh/2021/03/...</td>\n",
       "      <td>Elon Musk's False Covid Predictions: A Timeline</td>\n",
       "      <td>Forbes</td>\n",
       "      <td>https://encrypted-tbn0.gstatic.com/images?q=tb...</td>\n",
       "    </tr>\n",
       "    <tr>\n",
       "      <th>31</th>\n",
       "      <td>https://www.theceomagazine.com/business/covers...</td>\n",
       "      <td>A touch of madness: Elon Musk</td>\n",
       "      <td>The CEO Magazine</td>\n",
       "      <td>https://encrypted-tbn0.gstatic.com/images?q=tb...</td>\n",
       "    </tr>\n",
       "    <tr>\n",
       "      <th>32</th>\n",
       "      <td>https://www.esquire.com/news-politics/a16681/e...</td>\n",
       "      <td>Elon Musk Interview - Elon Musk SpaceX Interview</td>\n",
       "      <td>Esquire</td>\n",
       "      <td>https://encrypted-tbn0.gstatic.com/images?q=tb...</td>\n",
       "    </tr>\n",
       "    <tr>\n",
       "      <th>33</th>\n",
       "      <td>https://www.nytimes.com/2021/01/29/business/el...</td>\n",
       "      <td>Elon Musk Becomes Unlikely Anti-Establishment ...</td>\n",
       "      <td>The New York Times</td>\n",
       "      <td>https://encrypted-tbn0.gstatic.com/images?q=tb...</td>\n",
       "    </tr>\n",
       "    <tr>\n",
       "      <th>34</th>\n",
       "      <td>https://www.livemint.com/news/world/elon-musk-...</td>\n",
       "      <td>Elon Musk valuable advice shared by billionair...</td>\n",
       "      <td>Mint</td>\n",
       "      <td>https://encrypted-tbn0.gstatic.com/images?q=tb...</td>\n",
       "    </tr>\n",
       "    <tr>\n",
       "      <th>35</th>\n",
       "      <td>https://electrek.co/2022/06/09/elon-musk-revea...</td>\n",
       "      <td>Elon Musk reveals what Tesla's Master Plan Par...</td>\n",
       "      <td>Electrek</td>\n",
       "      <td>https://encrypted-tbn0.gstatic.com/images?q=tb...</td>\n",
       "    </tr>\n",
       "    <tr>\n",
       "      <th>36</th>\n",
       "      <td>https://www.wired.com/story/elon-musk-twitter-...</td>\n",
       "      <td>Elon Musk Getting Twitter Fire-Hose Data Raise...</td>\n",
       "      <td>WIRED</td>\n",
       "      <td>https://encrypted-tbn0.gstatic.com/images?q=tb...</td>\n",
       "    </tr>\n",
       "    <tr>\n",
       "      <th>37</th>\n",
       "      <td>https://www.hindustantimes.com/world-news/tesl...</td>\n",
       "      <td>Elon Musk says he is buying Manchester United,...</td>\n",
       "      <td>Hindustan Times</td>\n",
       "      <td>https://encrypted-tbn0.gstatic.com/images?q=tb...</td>\n",
       "    </tr>\n",
       "    <tr>\n",
       "      <th>38</th>\n",
       "      <td>https://www.hindustantimes.com/business/elon-m...</td>\n",
       "      <td>Elon Musk becomes Twitter CEO; 5 companies now...</td>\n",
       "      <td>Hindustan Times</td>\n",
       "      <td>https://encrypted-tbn0.gstatic.com/images?q=tb...</td>\n",
       "    </tr>\n",
       "    <tr>\n",
       "      <th>39</th>\n",
       "      <td>https://economictimes.indiatimes.com/magazines...</td>\n",
       "      <td>Elon Musk, boss of Tesla, SpaceX (and king of ...</td>\n",
       "      <td>The Economic Times</td>\n",
       "      <td>https://encrypted-tbn0.gstatic.com/images?q=tb...</td>\n",
       "    </tr>\n",
       "    <tr>\n",
       "      <th>40</th>\n",
       "      <td>https://www.cnbc.com/2017/07/17/this-is-the-on...</td>\n",
       "      <td>This is the one thing that motivates Elon Musk</td>\n",
       "      <td>CNBC</td>\n",
       "      <td>https://encrypted-tbn0.gstatic.com/images?q=tb...</td>\n",
       "    </tr>\n",
       "    <tr>\n",
       "      <th>41</th>\n",
       "      <td>https://www.forbes.com/sites/jodiecook/2022/12...</td>\n",
       "      <td>How Elon Musk Solves Problems: 4 Key Frameworks</td>\n",
       "      <td>Forbes</td>\n",
       "      <td>https://encrypted-tbn0.gstatic.com/images?q=tb...</td>\n",
       "    </tr>\n",
       "    <tr>\n",
       "      <th>42</th>\n",
       "      <td>https://www.businesstoday.in/technology/news/s...</td>\n",
       "      <td>How about $8?' Elon Musk wants to set the pric...</td>\n",
       "      <td>Business Today</td>\n",
       "      <td>https://encrypted-tbn0.gstatic.com/images?q=tb...</td>\n",
       "    </tr>\n",
       "    <tr>\n",
       "      <th>43</th>\n",
       "      <td>https://www.bbc.com/news/business-63963239</td>\n",
       "      <td>Elon Musk no longer world's richest man - BBC ...</td>\n",
       "      <td>BBC</td>\n",
       "      <td>https://encrypted-tbn0.gstatic.com/images?q=tb...</td>\n",
       "    </tr>\n",
       "    <tr>\n",
       "      <th>44</th>\n",
       "      <td>https://www.youtube.com/watch?v=zIwLWfaAg-8</td>\n",
       "      <td>Elon Musk: The future we're building -- and bo...</td>\n",
       "      <td>YouTube</td>\n",
       "      <td>https://encrypted-tbn0.gstatic.com/images?q=tb...</td>\n",
       "    </tr>\n",
       "    <tr>\n",
       "      <th>45</th>\n",
       "      <td>https://timesofindia.indiatimes.com/topic/Elon...</td>\n",
       "      <td>Elon Musk: Latest News, Videos and Photos of E...</td>\n",
       "      <td>Times of India</td>\n",
       "      <td>https://encrypted-tbn0.gstatic.com/images?q=tb...</td>\n",
       "    </tr>\n",
       "    <tr>\n",
       "      <th>46</th>\n",
       "      <td>https://fortune.com/2022/05/19/elon-musk-sexua...</td>\n",
       "      <td>Elon Musk reportedly sexually harassed and exp...</td>\n",
       "      <td>Fortune</td>\n",
       "      <td>https://encrypted-tbn0.gstatic.com/images?q=tb...</td>\n",
       "    </tr>\n",
       "    <tr>\n",
       "      <th>47</th>\n",
       "      <td>https://www.aljazeera.com/opinions/2022/2/15/e...</td>\n",
       "      <td>Elon Musk is a security risk | Privacy | Al Ja...</td>\n",
       "      <td>Al Jazeera</td>\n",
       "      <td>https://encrypted-tbn0.gstatic.com/images?q=tb...</td>\n",
       "    </tr>\n",
       "  </tbody>\n",
       "</table>\n",
       "</div>"
      ],
      "text/plain": [
       "                                            Blog_Link  \\\n",
       "0             https://en.wikipedia.org/wiki/Elon_Musk   \n",
       "1      https://www.britannica.com/biography/Elon-Musk   \n",
       "2   https://www.biography.com/business-figure/elon...   \n",
       "3   https://robbreport.com/lifestyle/news/elon-mus...   \n",
       "4      https://www.britannica.com/biography/Elon-Musk   \n",
       "5   https://www.cnbc.com/2023/01/07/elon-musk-atto...   \n",
       "6   https://www.theguardian.com/technology/2023/ja...   \n",
       "7   https://www.guinnessworldrecords.com/news/2023...   \n",
       "8   https://www.businessinsider.in/tech/news/a-twi...   \n",
       "9   https://www.business-standard.com/about/who-is...   \n",
       "10  https://www.businessinsider.com/the-rise-of-el...   \n",
       "11  https://www.cnbc.com/2022/12/12/elon-musk-is-n...   \n",
       "12  https://www.cnbc.com/2020/05/26/elon-musk-on-h...   \n",
       "13  https://www.businesstoday.in/latest/trends/sto...   \n",
       "14  https://www.investopedia.com/articles/personal...   \n",
       "15         https://www.bbc.com/news/business-63408384   \n",
       "16  https://www.bloomberg.com/news/articles/2022-1...   \n",
       "17  https://www.wired.com/story/twitter-elon-musk-...   \n",
       "18  https://finance.yahoo.com/news/elon-musk-destr...   \n",
       "19  https://www.aljazeera.com/economy/2022/10/28/e...   \n",
       "20  https://www.livemint.com/news/world/elon-musk-...   \n",
       "21  https://www.moneycontrol.com/news/business/mar...   \n",
       "22  https://www.wsj.com/articles/elon-musk-invokes...   \n",
       "23  https://www.cnbc.com/2020/07/29/elon-musk-deep...   \n",
       "24        https://www.youtube.com/watch?v=cdZZpaB2kDM   \n",
       "25  https://www.koimoi.com/hollywood-news/amber-he...   \n",
       "26  https://www.foxbusiness.com/markets/elon-musk-...   \n",
       "27  https://m.economictimes.com/magazines/panache/...   \n",
       "28  https://www.npr.org/2022/06/01/1102513281/elon...   \n",
       "29  https://www.nbcnews.com/business/business-news...   \n",
       "30  https://www.forbes.com/sites/joewalsh/2021/03/...   \n",
       "31  https://www.theceomagazine.com/business/covers...   \n",
       "32  https://www.esquire.com/news-politics/a16681/e...   \n",
       "33  https://www.nytimes.com/2021/01/29/business/el...   \n",
       "34  https://www.livemint.com/news/world/elon-musk-...   \n",
       "35  https://electrek.co/2022/06/09/elon-musk-revea...   \n",
       "36  https://www.wired.com/story/elon-musk-twitter-...   \n",
       "37  https://www.hindustantimes.com/world-news/tesl...   \n",
       "38  https://www.hindustantimes.com/business/elon-m...   \n",
       "39  https://economictimes.indiatimes.com/magazines...   \n",
       "40  https://www.cnbc.com/2017/07/17/this-is-the-on...   \n",
       "41  https://www.forbes.com/sites/jodiecook/2022/12...   \n",
       "42  https://www.businesstoday.in/technology/news/s...   \n",
       "43         https://www.bbc.com/news/business-63963239   \n",
       "44        https://www.youtube.com/watch?v=zIwLWfaAg-8   \n",
       "45  https://timesofindia.indiatimes.com/topic/Elon...   \n",
       "46  https://fortune.com/2022/05/19/elon-musk-sexua...   \n",
       "47  https://www.aljazeera.com/opinions/2022/2/15/e...   \n",
       "\n",
       "                                                Title  \\\n",
       "0                               Elon Musk - Wikipedia   \n",
       "1   Elon Musk | Biography, SpaceX, Tesla, Twitter,...   \n",
       "2         Elon Musk - Tesla, Age & Family - Biography   \n",
       "3   Elon Musk Is the First Person to Lose $200 Bil...   \n",
       "4   Elon Musk | Biography, SpaceX, Tesla, Twitter,...   \n",
       "5   Elon Musk attorneys aim to move trial from Cal...   \n",
       "6   Elon Musk seeks to move trial out of San Franc...   \n",
       "7   Elon Musk suffers worst loss of fortune in his...   \n",
       "8   Self-proclaimed Twitter investor mocks Elon Mu...   \n",
       "9   Who is Elon Musk: Latest News on Elon Musk, To...   \n",
       "10  Elon Musk's Life Story: Tesla CEO's Early Year...   \n",
       "11  Elon Musk is no longer the richest person in t...   \n",
       "12  Elon Musk on his success: 'America is the land...   \n",
       "13  Elon Musk claims there's 'quite a significant'...   \n",
       "14                                  Who Is Elon Musk?   \n",
       "15  Elon Musk claims he's buying Twitter to 'help ...   \n",
       "16  Elon Musk Becomes First Person Ever to Lose $2...   \n",
       "17                    Elon Musk Is Overloaded | WIRED   \n",
       "18  Elon Musk has destroyed more than half of Twit...   \n",
       "19  Elon Musk takes over Twitter in $44bn deal | T...   \n",
       "20   Elon Musk creates history…in losing money | Mint   \n",
       "21  Elon Musk is now the first person ever to lose...   \n",
       "22  Elon Musk Invokes Twitter Succession Without G...   \n",
       "23  Elon Musk says DeepMind is his 'top concern' w...   \n",
       "24  Elon Musk talks Twitter, Tesla and how his bra...   \n",
       "25  Amber Heard Wanted To Get Married To Elon Musk...   \n",
       "26  Elon Musk tweets 'the bird is freed' after fin...   \n",
       "27  Elon Musk News: Elon Musk is 'fit, ripped & he...   \n",
       "28  Elon Musk tells employees to return to the off...   \n",
       "29  Elon Musk now leading Twitter, ushering in lik...   \n",
       "30    Elon Musk's False Covid Predictions: A Timeline   \n",
       "31                      A touch of madness: Elon Musk   \n",
       "32   Elon Musk Interview - Elon Musk SpaceX Interview   \n",
       "33  Elon Musk Becomes Unlikely Anti-Establishment ...   \n",
       "34  Elon Musk valuable advice shared by billionair...   \n",
       "35  Elon Musk reveals what Tesla's Master Plan Par...   \n",
       "36  Elon Musk Getting Twitter Fire-Hose Data Raise...   \n",
       "37  Elon Musk says he is buying Manchester United,...   \n",
       "38  Elon Musk becomes Twitter CEO; 5 companies now...   \n",
       "39  Elon Musk, boss of Tesla, SpaceX (and king of ...   \n",
       "40     This is the one thing that motivates Elon Musk   \n",
       "41    How Elon Musk Solves Problems: 4 Key Frameworks   \n",
       "42  How about $8?' Elon Musk wants to set the pric...   \n",
       "43  Elon Musk no longer world's richest man - BBC ...   \n",
       "44  Elon Musk: The future we're building -- and bo...   \n",
       "45  Elon Musk: Latest News, Videos and Photos of E...   \n",
       "46  Elon Musk reportedly sexually harassed and exp...   \n",
       "47  Elon Musk is a security risk | Privacy | Al Ja...   \n",
       "\n",
       "                Source_Name                                             Images  \n",
       "0                 Wikipedia  data:image/jpeg;base64,/9j/4AAQSkZJRgABAQAAAQA...  \n",
       "1   Encyclopedia Britannica  data:image/jpeg;base64,/9j/4AAQSkZJRgABAQAAAQA...  \n",
       "2        bio. Biography.com  data:image/jpeg;base64,/9j/4AAQSkZJRgABAQAAAQA...  \n",
       "3               Robb Report  data:image/jpeg;base64,/9j/4AAQSkZJRgABAQAAAQA...  \n",
       "4   Encyclopedia Britannica  data:image/jpeg;base64,/9j/4AAQSkZJRgABAQAAAQA...  \n",
       "5                      CNBC  data:image/jpeg;base64,/9j/4AAQSkZJRgABAQAAAQA...  \n",
       "6              The Guardian  data:image/jpeg;base64,/9j/4AAQSkZJRgABAQAAAQA...  \n",
       "7    Guinness World Records  data:image/jpeg;base64,/9j/4AAQSkZJRgABAQAAAQA...  \n",
       "8    Business Insider India  data:image/jpeg;base64,/9j/4AAQSkZJRgABAQAAAQA...  \n",
       "9         Business Standard  data:image/jpeg;base64,/9j/4AAQSkZJRgABAQAAAQA...  \n",
       "10         Business Insider  data:image/jpeg;base64,/9j/4AAQSkZJRgABAQAAAQA...  \n",
       "11                     CNBC  data:image/jpeg;base64,/9j/4AAQSkZJRgABAQAAAQA...  \n",
       "12                     CNBC  data:image/jpeg;base64,/9j/4AAQSkZJRgABAQAAAQA...  \n",
       "13           Business Today  data:image/jpeg;base64,/9j/4AAQSkZJRgABAQAAAQA...  \n",
       "14             Investopedia  data:image/jpeg;base64,/9j/4AAQSkZJRgABAQAAAQA...  \n",
       "15                      BBC  data:image/jpeg;base64,/9j/4AAQSkZJRgABAQAAAQA...  \n",
       "16            Bloomberg.com  data:image/jpeg;base64,/9j/4AAQSkZJRgABAQAAAQA...  \n",
       "17                    WIRED  data:image/jpeg;base64,/9j/4AAQSkZJRgABAQAAAQA...  \n",
       "18            Yahoo Finance  data:image/jpeg;base64,/9j/4AAQSkZJRgABAQAAAQA...  \n",
       "19               Al Jazeera  data:image/jpeg;base64,/9j/4AAQSkZJRgABAQAAAQA...  \n",
       "20                     Mint  https://encrypted-tbn0.gstatic.com/images?q=tb...  \n",
       "21             Moneycontrol  https://encrypted-tbn0.gstatic.com/images?q=tb...  \n",
       "22  The Wall Street Journal  https://encrypted-tbn0.gstatic.com/images?q=tb...  \n",
       "23                     CNBC  https://encrypted-tbn0.gstatic.com/images?q=tb...  \n",
       "24                  YouTube  https://encrypted-tbn0.gstatic.com/images?q=tb...  \n",
       "25                   Koimoi  https://encrypted-tbn0.gstatic.com/images?q=tb...  \n",
       "26             Fox Business  https://encrypted-tbn0.gstatic.com/images?q=tb...  \n",
       "27       The Economic Times  https://encrypted-tbn0.gstatic.com/images?q=tb...  \n",
       "28                      NPR  https://encrypted-tbn0.gstatic.com/images?q=tb...  \n",
       "29                 NBC News  https://encrypted-tbn0.gstatic.com/images?q=tb...  \n",
       "30                   Forbes  https://encrypted-tbn0.gstatic.com/images?q=tb...  \n",
       "31         The CEO Magazine  https://encrypted-tbn0.gstatic.com/images?q=tb...  \n",
       "32                  Esquire  https://encrypted-tbn0.gstatic.com/images?q=tb...  \n",
       "33       The New York Times  https://encrypted-tbn0.gstatic.com/images?q=tb...  \n",
       "34                     Mint  https://encrypted-tbn0.gstatic.com/images?q=tb...  \n",
       "35                 Electrek  https://encrypted-tbn0.gstatic.com/images?q=tb...  \n",
       "36                    WIRED  https://encrypted-tbn0.gstatic.com/images?q=tb...  \n",
       "37          Hindustan Times  https://encrypted-tbn0.gstatic.com/images?q=tb...  \n",
       "38          Hindustan Times  https://encrypted-tbn0.gstatic.com/images?q=tb...  \n",
       "39       The Economic Times  https://encrypted-tbn0.gstatic.com/images?q=tb...  \n",
       "40                     CNBC  https://encrypted-tbn0.gstatic.com/images?q=tb...  \n",
       "41                   Forbes  https://encrypted-tbn0.gstatic.com/images?q=tb...  \n",
       "42           Business Today  https://encrypted-tbn0.gstatic.com/images?q=tb...  \n",
       "43                      BBC  https://encrypted-tbn0.gstatic.com/images?q=tb...  \n",
       "44                  YouTube  https://encrypted-tbn0.gstatic.com/images?q=tb...  \n",
       "45           Times of India  https://encrypted-tbn0.gstatic.com/images?q=tb...  \n",
       "46                  Fortune  https://encrypted-tbn0.gstatic.com/images?q=tb...  \n",
       "47               Al Jazeera  https://encrypted-tbn0.gstatic.com/images?q=tb...  "
      ]
     },
     "execution_count": 48,
     "metadata": {},
     "output_type": "execute_result"
    }
   ],
   "source": [
    "dataframe"
   ]
  },
  {
   "cell_type": "code",
   "execution_count": 47,
   "id": "2a50322f",
   "metadata": {},
   "outputs": [
    {
     "ename": "IndexError",
     "evalue": "iloc cannot enlarge its target object",
     "output_type": "error",
     "traceback": [
      "\u001b[1;31m---------------------------------------------------------------------------\u001b[0m",
      "\u001b[1;31mIndexError\u001b[0m                                Traceback (most recent call last)",
      "\u001b[1;32m~\\AppData\\Local\\Temp\\ipykernel_11188\\2123338526.py\u001b[0m in \u001b[0;36m<module>\u001b[1;34m\u001b[0m\n\u001b[0;32m      5\u001b[0m     \u001b[1;32mtry\u001b[0m\u001b[1;33m:\u001b[0m\u001b[1;33m\u001b[0m\u001b[1;33m\u001b[0m\u001b[0m\n\u001b[1;32m----> 6\u001b[1;33m         \u001b[0mdataframe\u001b[0m\u001b[1;33m.\u001b[0m\u001b[0miloc\u001b[0m\u001b[1;33m[\u001b[0m\u001b[0mi\u001b[0m\u001b[1;33m,\u001b[0m\u001b[1;33m-\u001b[0m\u001b[1;36m1\u001b[0m\u001b[1;33m]\u001b[0m \u001b[1;33m=\u001b[0m \u001b[0mimageurl\u001b[0m\u001b[1;33m\u001b[0m\u001b[1;33m\u001b[0m\u001b[0m\n\u001b[0m\u001b[0;32m      7\u001b[0m         \u001b[0murllib\u001b[0m\u001b[1;33m.\u001b[0m\u001b[0mrequest\u001b[0m\u001b[1;33m.\u001b[0m\u001b[0murlretrieve\u001b[0m\u001b[1;33m(\u001b[0m\u001b[0mimageurl\u001b[0m\u001b[1;33m,\u001b[0m\u001b[1;34mf\"{path}/{search_term}_image_{i}.jpg\"\u001b[0m\u001b[1;33m)\u001b[0m\u001b[1;33m\u001b[0m\u001b[1;33m\u001b[0m\u001b[0m\n",
      "\u001b[1;32mA:\\InstalledApps\\anaconda\\lib\\site-packages\\pandas\\core\\indexing.py\u001b[0m in \u001b[0;36m__setitem__\u001b[1;34m(self, key, value)\u001b[0m\n\u001b[0;32m    712\u001b[0m         \u001b[0mindexer\u001b[0m \u001b[1;33m=\u001b[0m \u001b[0mself\u001b[0m\u001b[1;33m.\u001b[0m\u001b[0m_get_setitem_indexer\u001b[0m\u001b[1;33m(\u001b[0m\u001b[0mkey\u001b[0m\u001b[1;33m)\u001b[0m\u001b[1;33m\u001b[0m\u001b[1;33m\u001b[0m\u001b[0m\n\u001b[1;32m--> 713\u001b[1;33m         \u001b[0mself\u001b[0m\u001b[1;33m.\u001b[0m\u001b[0m_has_valid_setitem_indexer\u001b[0m\u001b[1;33m(\u001b[0m\u001b[0mkey\u001b[0m\u001b[1;33m)\u001b[0m\u001b[1;33m\u001b[0m\u001b[1;33m\u001b[0m\u001b[0m\n\u001b[0m\u001b[0;32m    714\u001b[0m \u001b[1;33m\u001b[0m\u001b[0m\n",
      "\u001b[1;32mA:\\InstalledApps\\anaconda\\lib\\site-packages\\pandas\\core\\indexing.py\u001b[0m in \u001b[0;36m_has_valid_setitem_indexer\u001b[1;34m(self, indexer)\u001b[0m\n\u001b[0;32m   1415\u001b[0m                 \u001b[1;32mif\u001b[0m \u001b[0mi\u001b[0m \u001b[1;33m>=\u001b[0m \u001b[0mlen\u001b[0m\u001b[1;33m(\u001b[0m\u001b[0max\u001b[0m\u001b[1;33m)\u001b[0m\u001b[1;33m:\u001b[0m\u001b[1;33m\u001b[0m\u001b[1;33m\u001b[0m\u001b[0m\n\u001b[1;32m-> 1416\u001b[1;33m                     \u001b[1;32mraise\u001b[0m \u001b[0mIndexError\u001b[0m\u001b[1;33m(\u001b[0m\u001b[1;34m\"iloc cannot enlarge its target object\"\u001b[0m\u001b[1;33m)\u001b[0m\u001b[1;33m\u001b[0m\u001b[1;33m\u001b[0m\u001b[0m\n\u001b[0m\u001b[0;32m   1417\u001b[0m             \u001b[1;32melif\u001b[0m \u001b[0misinstance\u001b[0m\u001b[1;33m(\u001b[0m\u001b[0mi\u001b[0m\u001b[1;33m,\u001b[0m \u001b[0mdict\u001b[0m\u001b[1;33m)\u001b[0m\u001b[1;33m:\u001b[0m\u001b[1;33m\u001b[0m\u001b[1;33m\u001b[0m\u001b[0m\n",
      "\u001b[1;31mIndexError\u001b[0m: iloc cannot enlarge its target object",
      "\nDuring handling of the above exception, another exception occurred:\n",
      "\u001b[1;31mIndexError\u001b[0m                                Traceback (most recent call last)",
      "\u001b[1;32m~\\AppData\\Local\\Temp\\ipykernel_11188\\2123338526.py\u001b[0m in \u001b[0;36m<module>\u001b[1;34m\u001b[0m\n\u001b[0;32m      7\u001b[0m         \u001b[0murllib\u001b[0m\u001b[1;33m.\u001b[0m\u001b[0mrequest\u001b[0m\u001b[1;33m.\u001b[0m\u001b[0murlretrieve\u001b[0m\u001b[1;33m(\u001b[0m\u001b[0mimageurl\u001b[0m\u001b[1;33m,\u001b[0m\u001b[1;34mf\"{path}/{search_term}_image_{i}.jpg\"\u001b[0m\u001b[1;33m)\u001b[0m\u001b[1;33m\u001b[0m\u001b[1;33m\u001b[0m\u001b[0m\n\u001b[0;32m      8\u001b[0m     \u001b[1;32mexcept\u001b[0m \u001b[0mException\u001b[0m \u001b[1;32mas\u001b[0m \u001b[0me\u001b[0m\u001b[1;33m:\u001b[0m\u001b[1;33m\u001b[0m\u001b[1;33m\u001b[0m\u001b[0m\n\u001b[1;32m----> 9\u001b[1;33m         \u001b[0mdataframe\u001b[0m\u001b[1;33m.\u001b[0m\u001b[0miloc\u001b[0m\u001b[1;33m[\u001b[0m\u001b[0mi\u001b[0m\u001b[1;33m,\u001b[0m\u001b[1;33m-\u001b[0m\u001b[1;36m1\u001b[0m\u001b[1;33m]\u001b[0m \u001b[1;33m=\u001b[0m \u001b[0malt_image_url\u001b[0m\u001b[1;33m\u001b[0m\u001b[1;33m\u001b[0m\u001b[0m\n\u001b[0m\u001b[0;32m     10\u001b[0m         \u001b[0murllib\u001b[0m\u001b[1;33m.\u001b[0m\u001b[0mrequest\u001b[0m\u001b[1;33m.\u001b[0m\u001b[0murlretrieve\u001b[0m\u001b[1;33m(\u001b[0m\u001b[0malt_image_url\u001b[0m\u001b[1;33m,\u001b[0m\u001b[1;34mf\"{path}/{search_term}image_{i}.jpg\"\u001b[0m\u001b[1;33m)\u001b[0m\u001b[1;33m\u001b[0m\u001b[1;33m\u001b[0m\u001b[0m\n\u001b[0;32m     11\u001b[0m         \u001b[1;32mpass\u001b[0m\u001b[1;33m\u001b[0m\u001b[1;33m\u001b[0m\u001b[0m\n",
      "\u001b[1;32mA:\\InstalledApps\\anaconda\\lib\\site-packages\\pandas\\core\\indexing.py\u001b[0m in \u001b[0;36m__setitem__\u001b[1;34m(self, key, value)\u001b[0m\n\u001b[0;32m    711\u001b[0m             \u001b[0mkey\u001b[0m \u001b[1;33m=\u001b[0m \u001b[0mcom\u001b[0m\u001b[1;33m.\u001b[0m\u001b[0mapply_if_callable\u001b[0m\u001b[1;33m(\u001b[0m\u001b[0mkey\u001b[0m\u001b[1;33m,\u001b[0m \u001b[0mself\u001b[0m\u001b[1;33m.\u001b[0m\u001b[0mobj\u001b[0m\u001b[1;33m)\u001b[0m\u001b[1;33m\u001b[0m\u001b[1;33m\u001b[0m\u001b[0m\n\u001b[0;32m    712\u001b[0m         \u001b[0mindexer\u001b[0m \u001b[1;33m=\u001b[0m \u001b[0mself\u001b[0m\u001b[1;33m.\u001b[0m\u001b[0m_get_setitem_indexer\u001b[0m\u001b[1;33m(\u001b[0m\u001b[0mkey\u001b[0m\u001b[1;33m)\u001b[0m\u001b[1;33m\u001b[0m\u001b[1;33m\u001b[0m\u001b[0m\n\u001b[1;32m--> 713\u001b[1;33m         \u001b[0mself\u001b[0m\u001b[1;33m.\u001b[0m\u001b[0m_has_valid_setitem_indexer\u001b[0m\u001b[1;33m(\u001b[0m\u001b[0mkey\u001b[0m\u001b[1;33m)\u001b[0m\u001b[1;33m\u001b[0m\u001b[1;33m\u001b[0m\u001b[0m\n\u001b[0m\u001b[0;32m    714\u001b[0m \u001b[1;33m\u001b[0m\u001b[0m\n\u001b[0;32m    715\u001b[0m         \u001b[0miloc\u001b[0m \u001b[1;33m=\u001b[0m \u001b[0mself\u001b[0m \u001b[1;32mif\u001b[0m \u001b[0mself\u001b[0m\u001b[1;33m.\u001b[0m\u001b[0mname\u001b[0m \u001b[1;33m==\u001b[0m \u001b[1;34m\"iloc\"\u001b[0m \u001b[1;32melse\u001b[0m \u001b[0mself\u001b[0m\u001b[1;33m.\u001b[0m\u001b[0mobj\u001b[0m\u001b[1;33m.\u001b[0m\u001b[0miloc\u001b[0m\u001b[1;33m\u001b[0m\u001b[1;33m\u001b[0m\u001b[0m\n",
      "\u001b[1;32mA:\\InstalledApps\\anaconda\\lib\\site-packages\\pandas\\core\\indexing.py\u001b[0m in \u001b[0;36m_has_valid_setitem_indexer\u001b[1;34m(self, indexer)\u001b[0m\n\u001b[0;32m   1414\u001b[0m             \u001b[1;32melif\u001b[0m \u001b[0mis_integer\u001b[0m\u001b[1;33m(\u001b[0m\u001b[0mi\u001b[0m\u001b[1;33m)\u001b[0m\u001b[1;33m:\u001b[0m\u001b[1;33m\u001b[0m\u001b[1;33m\u001b[0m\u001b[0m\n\u001b[0;32m   1415\u001b[0m                 \u001b[1;32mif\u001b[0m \u001b[0mi\u001b[0m \u001b[1;33m>=\u001b[0m \u001b[0mlen\u001b[0m\u001b[1;33m(\u001b[0m\u001b[0max\u001b[0m\u001b[1;33m)\u001b[0m\u001b[1;33m:\u001b[0m\u001b[1;33m\u001b[0m\u001b[1;33m\u001b[0m\u001b[0m\n\u001b[1;32m-> 1416\u001b[1;33m                     \u001b[1;32mraise\u001b[0m \u001b[0mIndexError\u001b[0m\u001b[1;33m(\u001b[0m\u001b[1;34m\"iloc cannot enlarge its target object\"\u001b[0m\u001b[1;33m)\u001b[0m\u001b[1;33m\u001b[0m\u001b[1;33m\u001b[0m\u001b[0m\n\u001b[0m\u001b[0;32m   1417\u001b[0m             \u001b[1;32melif\u001b[0m \u001b[0misinstance\u001b[0m\u001b[1;33m(\u001b[0m\u001b[0mi\u001b[0m\u001b[1;33m,\u001b[0m \u001b[0mdict\u001b[0m\u001b[1;33m)\u001b[0m\u001b[1;33m:\u001b[0m\u001b[1;33m\u001b[0m\u001b[1;33m\u001b[0m\u001b[0m\n\u001b[0;32m   1418\u001b[0m                 \u001b[1;32mraise\u001b[0m \u001b[0mIndexError\u001b[0m\u001b[1;33m(\u001b[0m\u001b[1;34m\"iloc cannot enlarge its target object\"\u001b[0m\u001b[1;33m)\u001b[0m\u001b[1;33m\u001b[0m\u001b[1;33m\u001b[0m\u001b[0m\n",
      "\u001b[1;31mIndexError\u001b[0m: iloc cannot enlarge its target object"
     ]
    }
   ],
   "source": [
    "dataframe[\"Images\"] = None\n",
    "for i,image_link in enumerate(all_images):\n",
    "    imageurl = image_link.find(\"img\",class_=\"rg_i Q4LuWd\").get(\"src\")\n",
    "    alt_image_url = image_link.find(\"img\",class_=\"rg_i Q4LuWd\").get(\"data-src\")\n",
    "    try:\n",
    "        dataframe.iloc[i,-1] = imageurl\n",
    "        urllib.request.urlretrieve(imageurl,f\"{path}/{search_term}_image_{i}.jpg\")\n",
    "    except Exception as e:\n",
    "        dataframe.iloc[i,-1] = alt_image_url\n",
    "        urllib.request.urlretrieve(alt_image_url,f\"{path}/{search_term}image_{i}.jpg\")\n",
    "        pass"
   ]
  },
  {
   "cell_type": "markdown",
   "id": "3250eb82",
   "metadata": {},
   "source": [
    "## total Number of images"
   ]
  },
  {
   "cell_type": "code",
   "execution_count": 49,
   "id": "66940fd1",
   "metadata": {},
   "outputs": [
    {
     "data": {
      "text/plain": [
       "73"
      ]
     },
     "execution_count": 49,
     "metadata": {},
     "output_type": "execute_result"
    }
   ],
   "source": [
    "len(os.listdir(path))"
   ]
  },
  {
   "cell_type": "code",
   "execution_count": 50,
   "id": "cd96b96b",
   "metadata": {},
   "outputs": [
    {
     "data": {
      "text/html": [
       "<div>\n",
       "<style scoped>\n",
       "    .dataframe tbody tr th:only-of-type {\n",
       "        vertical-align: middle;\n",
       "    }\n",
       "\n",
       "    .dataframe tbody tr th {\n",
       "        vertical-align: top;\n",
       "    }\n",
       "\n",
       "    .dataframe thead th {\n",
       "        text-align: right;\n",
       "    }\n",
       "</style>\n",
       "<table border=\"1\" class=\"dataframe\">\n",
       "  <thead>\n",
       "    <tr style=\"text-align: right;\">\n",
       "      <th></th>\n",
       "      <th>Blog_Link</th>\n",
       "      <th>Title</th>\n",
       "      <th>Source_Name</th>\n",
       "      <th>Images</th>\n",
       "    </tr>\n",
       "  </thead>\n",
       "  <tbody>\n",
       "    <tr>\n",
       "      <th>0</th>\n",
       "      <td>https://en.wikipedia.org/wiki/Elon_Musk</td>\n",
       "      <td>Elon Musk - Wikipedia</td>\n",
       "      <td>Wikipedia</td>\n",
       "      <td>data:image/jpeg;base64,/9j/4AAQSkZJRgABAQAAAQA...</td>\n",
       "    </tr>\n",
       "    <tr>\n",
       "      <th>1</th>\n",
       "      <td>https://www.britannica.com/biography/Elon-Musk</td>\n",
       "      <td>Elon Musk | Biography, SpaceX, Tesla, Twitter,...</td>\n",
       "      <td>Encyclopedia Britannica</td>\n",
       "      <td>data:image/jpeg;base64,/9j/4AAQSkZJRgABAQAAAQA...</td>\n",
       "    </tr>\n",
       "    <tr>\n",
       "      <th>2</th>\n",
       "      <td>https://www.biography.com/business-figure/elon...</td>\n",
       "      <td>Elon Musk - Tesla, Age &amp; Family - Biography</td>\n",
       "      <td>bio. Biography.com</td>\n",
       "      <td>data:image/jpeg;base64,/9j/4AAQSkZJRgABAQAAAQA...</td>\n",
       "    </tr>\n",
       "    <tr>\n",
       "      <th>3</th>\n",
       "      <td>https://robbreport.com/lifestyle/news/elon-mus...</td>\n",
       "      <td>Elon Musk Is the First Person to Lose $200 Bil...</td>\n",
       "      <td>Robb Report</td>\n",
       "      <td>data:image/jpeg;base64,/9j/4AAQSkZJRgABAQAAAQA...</td>\n",
       "    </tr>\n",
       "    <tr>\n",
       "      <th>4</th>\n",
       "      <td>https://www.britannica.com/biography/Elon-Musk</td>\n",
       "      <td>Elon Musk | Biography, SpaceX, Tesla, Twitter,...</td>\n",
       "      <td>Encyclopedia Britannica</td>\n",
       "      <td>data:image/jpeg;base64,/9j/4AAQSkZJRgABAQAAAQA...</td>\n",
       "    </tr>\n",
       "  </tbody>\n",
       "</table>\n",
       "</div>"
      ],
      "text/plain": [
       "                                           Blog_Link  \\\n",
       "0            https://en.wikipedia.org/wiki/Elon_Musk   \n",
       "1     https://www.britannica.com/biography/Elon-Musk   \n",
       "2  https://www.biography.com/business-figure/elon...   \n",
       "3  https://robbreport.com/lifestyle/news/elon-mus...   \n",
       "4     https://www.britannica.com/biography/Elon-Musk   \n",
       "\n",
       "                                               Title              Source_Name  \\\n",
       "0                              Elon Musk - Wikipedia                Wikipedia   \n",
       "1  Elon Musk | Biography, SpaceX, Tesla, Twitter,...  Encyclopedia Britannica   \n",
       "2        Elon Musk - Tesla, Age & Family - Biography       bio. Biography.com   \n",
       "3  Elon Musk Is the First Person to Lose $200 Bil...              Robb Report   \n",
       "4  Elon Musk | Biography, SpaceX, Tesla, Twitter,...  Encyclopedia Britannica   \n",
       "\n",
       "                                              Images  \n",
       "0  data:image/jpeg;base64,/9j/4AAQSkZJRgABAQAAAQA...  \n",
       "1  data:image/jpeg;base64,/9j/4AAQSkZJRgABAQAAAQA...  \n",
       "2  data:image/jpeg;base64,/9j/4AAQSkZJRgABAQAAAQA...  \n",
       "3  data:image/jpeg;base64,/9j/4AAQSkZJRgABAQAAAQA...  \n",
       "4  data:image/jpeg;base64,/9j/4AAQSkZJRgABAQAAAQA...  "
      ]
     },
     "execution_count": 50,
     "metadata": {},
     "output_type": "execute_result"
    }
   ],
   "source": [
    "dataframe.head()"
   ]
  },
  {
   "cell_type": "code",
   "execution_count": 51,
   "id": "6eabb961",
   "metadata": {},
   "outputs": [],
   "source": [
    "def path_to_image_html(path):\n",
    "    return '<img src =\"'+ path + '\" width=\"120\" >'"
   ]
  },
  {
   "cell_type": "code",
   "execution_count": 52,
   "id": "423e0b37",
   "metadata": {},
   "outputs": [],
   "source": [
    "pd.set_option('colheader_justify', 'center')"
   ]
  },
  {
   "cell_type": "code",
   "execution_count": 53,
   "id": "8342d01e",
   "metadata": {},
   "outputs": [],
   "source": [
    "dataframe.to_html(f\"{search_term}_data.html\",escape=False,formatters=dict(Images=path_to_image_html))"
   ]
  },
  {
   "cell_type": "code",
   "execution_count": 54,
   "id": "e145c2c4",
   "metadata": {},
   "outputs": [
    {
     "data": {
      "text/plain": [
       "'https://encrypted-tbn0.gstatic.com/images?q=tbn:ANd9GcQt3nsM-CAH-atRiDInmY0W5LLNKGS5UjlJsQ&usqp=CAU'"
      ]
     },
     "execution_count": 54,
     "metadata": {},
     "output_type": "execute_result"
    }
   ],
   "source": [
    "dataframe[\"Images\"][21]"
   ]
  },
  {
   "cell_type": "markdown",
   "id": "facf737a",
   "metadata": {},
   "source": [
    "# Doing it all at once "
   ]
  },
  {
   "cell_type": "code",
   "execution_count": null,
   "id": "ad22b07f",
   "metadata": {},
   "outputs": [],
   "source": []
  },
  {
   "cell_type": "code",
   "execution_count": null,
   "id": "cf3a9813",
   "metadata": {},
   "outputs": [],
   "source": []
  }
 ],
 "metadata": {
  "kernelspec": {
   "display_name": "Python 3 (ipykernel)",
   "language": "python",
   "name": "python3"
  },
  "language_info": {
   "codemirror_mode": {
    "name": "ipython",
    "version": 3
   },
   "file_extension": ".py",
   "mimetype": "text/x-python",
   "name": "python",
   "nbconvert_exporter": "python",
   "pygments_lexer": "ipython3",
   "version": "3.9.15"
  },
  "toc": {
   "base_numbering": 1,
   "nav_menu": {},
   "number_sections": true,
   "sideBar": true,
   "skip_h1_title": false,
   "title_cell": "Table of Contents",
   "title_sidebar": "Contents",
   "toc_cell": false,
   "toc_position": {
    "height": "calc(100% - 180px)",
    "left": "10px",
    "top": "150px",
    "width": "165px"
   },
   "toc_section_display": true,
   "toc_window_display": true
  },
  "vscode": {
   "interpreter": {
    "hash": "db29d9c3531fbefb8528bf1617aed628388b45e6ce014ed5e5e3db8968ae6306"
   }
  }
 },
 "nbformat": 4,
 "nbformat_minor": 5
}
