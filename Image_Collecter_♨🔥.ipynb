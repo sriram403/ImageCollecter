{
 "cells": [
  {
   "cell_type": "markdown",
   "id": "6e0e5f51",
   "metadata": {},
   "source": [
    "# Writing Web Scrapping Code to Collect Images From Google"
   ]
  },
  {
   "cell_type": "markdown",
   "id": "85d9ebb7",
   "metadata": {},
   "source": [
    "## loading the Libraries Necessaries"
   ]
  },
  {
   "cell_type": "code",
   "execution_count": 1,
   "id": "e14d5e1c",
   "metadata": {},
   "outputs": [],
   "source": [
    "from selenium import webdriver\n",
    "from selenium.webdriver.common.keys import Keys\n",
    "from bs4 import BeautifulSoup\n",
    "import time\n",
    "import os \n",
    "import requests\n",
    "import urllib"
   ]
  },
  {
   "cell_type": "markdown",
   "id": "be428f40",
   "metadata": {},
   "source": [
    "## Which Person Image do you Want to download And How much Images Do you Need"
   ]
  },
  {
   "cell_type": "code",
   "execution_count": 69,
   "id": "4a5a03e0",
   "metadata": {},
   "outputs": [],
   "source": [
    "class_name = \"My favourite\"\n",
    "actress = \"billi ellish\"\n",
    "Images_needed = 30"
   ]
  },
  {
   "cell_type": "markdown",
   "id": "e91d882c",
   "metadata": {},
   "source": [
    "## Setting according to your prefrences (with and without browser opening while collecting image)"
   ]
  },
  {
   "cell_type": "code",
   "execution_count": 70,
   "id": "b8901e3d",
   "metadata": {},
   "outputs": [],
   "source": [
    "# #To run without browser opening\n",
    "# op = webdriver.ChromeOptions()\n",
    "# op.add_argument('headless')\n",
    "# driver = webdriver.Chrome(options=op)\n",
    "# driver.get(\"https://google.com\")"
   ]
  },
  {
   "cell_type": "code",
   "execution_count": 71,
   "id": "4f74fcbc",
   "metadata": {},
   "outputs": [],
   "source": [
    "#to open browser while running (we can visualize)\n",
    "driver = webdriver.Chrome()\n",
    "driver.get(\"https://google.com\")"
   ]
  },
  {
   "cell_type": "markdown",
   "id": "1447d6c9",
   "metadata": {},
   "source": [
    "## Setting the SearchBar in google And Entering the className"
   ]
  },
  {
   "cell_type": "code",
   "execution_count": 72,
   "id": "d49342ce",
   "metadata": {},
   "outputs": [],
   "source": [
    "box = driver.find_element(\"xpath\",\"/html/body/div[1]/div[3]/form/div[1]/div[1]/div[1]/div/div[2]/input\")\n",
    "box.send_keys(actress)\n",
    "box.send_keys(Keys.ENTER)"
   ]
  },
  {
   "cell_type": "markdown",
   "id": "fbd0fe3b",
   "metadata": {},
   "source": [
    "## moving to the images tab in google"
   ]
  },
  {
   "cell_type": "code",
   "execution_count": 73,
   "id": "810a6db8",
   "metadata": {},
   "outputs": [],
   "source": [
    "driver.find_element(\"xpath\",\"//*[@id='hdtb-msb']/div[1]/div/div[2]/a\").click()"
   ]
  },
  {
   "cell_type": "markdown",
   "id": "cefbc468",
   "metadata": {},
   "source": [
    "## Getting the right amount of images needed from all the images in google images tab"
   ]
  },
  {
   "cell_type": "code",
   "execution_count": 74,
   "id": "29139ff6",
   "metadata": {},
   "outputs": [
    {
     "name": "stdout",
     "output_type": "stream",
     "text": [
      "finished_scrolling\n"
     ]
    }
   ],
   "source": [
    "starting_length = driver.execute_script(\"return document.body.scrollHeight\")\n",
    "finished_length = starting_length+1\n",
    "Find_Images = True\n",
    "while (starting_length != finished_length) & (Find_Images):\n",
    "    starting_length = driver.execute_script(\"return document.body.scrollHeight\")\n",
    "    driver.execute_script(\"window.scrollTo(0,document.body.scrollHeight)\")\n",
    "    soup = BeautifulSoup(driver.page_source,\"lxml\")\n",
    "    all_images = soup.find_all(\"div\",class_=\"isv-r PNCib MSM1fd BUooTd\")\n",
    "    try:\n",
    "        all_images = soup.find_all(\"div\",class_=\"isv-r PNCib MSM1fd BUooTd\")\n",
    "        if len(all_images) <= Images_needed:\n",
    "            time.sleep(5)\n",
    "            finished_length = driver.execute_script(\"return document.body.scrollHeight\")\n",
    "        else:\n",
    "            all_images = soup.find_all(\"div\",class_=\"isv-r PNCib MSM1fd BUooTd\")\n",
    "            Find_Images = False\n",
    "    except Exception as e:\n",
    "        print(f\"the exception occured as: {e}\")\n",
    "print(\"finished_scrolling\")"
   ]
  },
  {
   "cell_type": "markdown",
   "id": "6913023a",
   "metadata": {},
   "source": [
    "## Checking how many images we have "
   ]
  },
  {
   "cell_type": "code",
   "execution_count": 75,
   "id": "e46386dc",
   "metadata": {},
   "outputs": [],
   "source": [
    "soup = BeautifulSoup(driver.page_source,\"html.parser\")"
   ]
  },
  {
   "cell_type": "code",
   "execution_count": 76,
   "id": "d36ce9b5",
   "metadata": {},
   "outputs": [
    {
     "data": {
      "text/plain": [
       "100"
      ]
     },
     "execution_count": 76,
     "metadata": {},
     "output_type": "execute_result"
    }
   ],
   "source": [
    "all_images = soup.find_all(\"div\",class_=\"isv-r PNCib MSM1fd BUooTd\")\n",
    "len(all_images)"
   ]
  },
  {
   "cell_type": "markdown",
   "id": "fe13b040",
   "metadata": {},
   "source": [
    "## Creating a folder with a Class_name"
   ]
  },
  {
   "cell_type": "code",
   "execution_count": 77,
   "id": "78be81f0",
   "metadata": {},
   "outputs": [],
   "source": [
    "path = os.path.join(os.getcwd(),f\"{class_name}\")\n",
    "os.makedirs(path,exist_ok=True)    "
   ]
  },
  {
   "cell_type": "code",
   "execution_count": 78,
   "id": "67296e40",
   "metadata": {},
   "outputs": [],
   "source": [
    "# os.listdir(path)"
   ]
  },
  {
   "cell_type": "markdown",
   "id": "516fcf21",
   "metadata": {},
   "source": [
    "## Final Total Number Of Images"
   ]
  },
  {
   "cell_type": "code",
   "execution_count": 79,
   "id": "214f3b0e",
   "metadata": {},
   "outputs": [],
   "source": [
    "# #to get a image file without compression\n",
    "# import urllib.request\n",
    "# image_url = \"give any image url from google we can get a image file without compression :)\"\n",
    "# request = urllib.request.Request(image_url, headers={\"Accept-Encoding\": \"identity\"})\n",
    "# response = urllib.request.urlopen(request)\n",
    "# with open(\"image.jpg\", \"wb\") as f:\n",
    "#     f.write(response.read())"
   ]
  },
  {
   "cell_type": "code",
   "execution_count": 80,
   "id": "2a50322f",
   "metadata": {},
   "outputs": [],
   "source": [
    "for i,image_link in enumerate(all_images):\n",
    "    image_url = image_link.find(\"img\",class_=\"rg_i Q4LuWd\").get(\"src\")\n",
    "    alt_image_url = image_link.find(\"img\",class_=\"rg_i Q4LuWd\").get(\"data-src\")\n",
    "    try:\n",
    "        urllib.request.urlretrieve(image_url,f\"{path}/{actress}_image_{i}.jpg\")\n",
    "    except Exception as e:\n",
    "        urllib.request.urlretrieve(alt_image_url,f\"{path}/{actress}image_{i}.jpg\")\n",
    "        pass"
   ]
  },
  {
   "cell_type": "markdown",
   "id": "3250eb82",
   "metadata": {},
   "source": [
    "## total Number of images"
   ]
  },
  {
   "cell_type": "code",
   "execution_count": 81,
   "id": "66940fd1",
   "metadata": {},
   "outputs": [
    {
     "data": {
      "text/plain": [
       "148"
      ]
     },
     "execution_count": 81,
     "metadata": {},
     "output_type": "execute_result"
    }
   ],
   "source": [
    "len(os.listdir(path))"
   ]
  },
  {
   "cell_type": "markdown",
   "id": "facf737a",
   "metadata": {},
   "source": [
    "# Doing it all at once "
   ]
  },
  {
   "cell_type": "code",
   "execution_count": 94,
   "id": "0e04f1d6",
   "metadata": {},
   "outputs": [
    {
     "name": "stdout",
     "output_type": "stream",
     "text": [
      "the current actress/actor is ->> millie bobby brown <<-\n",
      "finished_scrolling\n",
      "Downloaded Complete and we got :-> 20 images\n",
      "the current actress/actor is ->> will smith <<-\n",
      "finished_scrolling\n",
      "Downloaded Complete and we got :-> 0 images\n",
      "the current actress/actor is ->> CARA DELEVINGNE <<-\n",
      "finished_scrolling\n",
      "Downloaded Complete and we got :-> 20 images\n",
      "the current actress/actor is ->> FELICITY JONES <<-\n",
      "finished_scrolling\n",
      "Downloaded Complete and we got :-> 20 images\n",
      "the current actress/actor is ->> Avatar <<-\n",
      "finished_scrolling\n",
      "Downloaded Complete and we got :-> 0 images\n",
      "the current actress/actor is ->> olivia rodrigo <<-\n",
      "finished_scrolling\n",
      "Downloaded Complete and we got :-> 20 images\n",
      "the current actress/actor is ->> brie larson <<-\n",
      "finished_scrolling\n",
      "Downloaded Complete and we got :-> 20 images\n",
      "the current actress/actor is ->> priyanka chopra <<-\n",
      "finished_scrolling\n",
      "Downloaded Complete and we got :-> 20 images\n",
      "the current actress/actor is ->> Alia Bhatt <<-\n",
      "finished_scrolling\n",
      "Downloaded Complete and we got :-> 20 images\n",
      "the current actress/actor is ->> deepika padukone <<-\n",
      "finished_scrolling\n",
      "Downloaded Complete and we got :-> 20 images\n",
      "++++++++++++++++++++\n",
      "Every Image in the Actress Variable is Downloaded\n",
      "And the total images we have in our = My not so favourite -.- class is ->> 160\n"
     ]
    }
   ],
   "source": [
    "class_name = \"My not so favourite\"\n",
    "actress = [\"millie bobby brown\",\"will smith\",\"CARA DELEVINGNE\",\"FELICITY JONES\",\"Avatar\",\"olivia rodrigo\",\"brie larson\",\n",
    "          \"priyanka chopra\",\"Alia Bhatt\",\"deepika padukone\"]\n",
    "Images_needed = 20\n",
    "\n",
    "for actress in actress:\n",
    "    print(f\"the current actress/actor is ->> {actress} <<-\")\n",
    "    #to run with browser\n",
    "#     driver = webdriver.Chrome()\n",
    "#     driver.get(\"https://google.com\")\n",
    "    #or\n",
    "    #To run without browser opening\n",
    "    op = webdriver.ChromeOptions()\n",
    "    op.add_argument('headless')\n",
    "    driver = webdriver.Chrome(options=op)\n",
    "    driver.get(\"https://google.com\")\n",
    "    box = driver.find_element(\"xpath\",\"/html/body/div[1]/div[3]/form/div[1]/div[1]/div[1]/div/div[2]/input\")\n",
    "    box.send_keys(actress)\n",
    "    box.send_keys(Keys.ENTER)\n",
    "    time.sleep(2)\n",
    "    driver.find_element(\"xpath\",\"//*[@id='hdtb-msb']/div[1]/div/div[2]/a\").click()\n",
    "\n",
    "    starting_length = driver.execute_script(\"return document.body.scrollHeight\")\n",
    "    finished_length = starting_length+1\n",
    "    Find_Images = True\n",
    "    while (starting_length != finished_length) & (Find_Images):\n",
    "        starting_length = driver.execute_script(\"return document.body.scrollHeight\")\n",
    "        driver.execute_script(\"window.scrollTo(0,document.body.scrollHeight)\")\n",
    "        soup = BeautifulSoup(driver.page_source,\"lxml\")\n",
    "        all_images = soup.find_all(\"div\",class_=\"isv-r PNCib MSM1fd BUooTd\")\n",
    "        try:\n",
    "            all_images = soup.find_all(\"div\",class_=\"isv-r PNCib MSM1fd BUooTd\")\n",
    "            if len(all_images) <= Images_needed:\n",
    "                time.sleep(5)\n",
    "                finished_length = driver.execute_script(\"return document.body.scrollHeight\")\n",
    "            else:\n",
    "                all_images = soup.find_all(\"div\",class_=\"isv-r PNCib MSM1fd BUooTd\")\n",
    "                Find_Images = False\n",
    "        except Exception as e:\n",
    "            print(f\"the exception occured as: {e}\")\n",
    "    print(\"finished_scrolling\")\n",
    "\n",
    "\n",
    "    soup = BeautifulSoup(driver.page_source,\"html.parser\")\n",
    "    all_images = soup.find_all(\"div\",class_=\"isv-r PNCib MSM1fd BUooTd\")\n",
    "\n",
    "\n",
    "    path = os.path.join(os.getcwd(),f\"{class_name}\")\n",
    "    os.makedirs(path,exist_ok=True)  \n",
    "\n",
    "    for i,image_link in enumerate(all_images[:Images_needed]):\n",
    "        image_url = image_link.find(\"img\",class_=\"rg_i Q4LuWd\").get(\"src\")\n",
    "        alt_image_url = image_link.find(\"img\",class_=\"rg_i Q4LuWd\").get(\"data-src\")\n",
    "        try:\n",
    "            urllib.request.urlretrieve(image_url,f\"{path}/{actress}_image_{i}.jpg\")\n",
    "        except Exception as e:\n",
    "            urllib.request.urlretrieve(alt_image_url,f\"{path}/{actress}image_{i}.jpg\")\n",
    "            pass\n",
    "    print(f\"Downloaded Complete and we got :-> {len(all_images[:Images_needed])} images\")\n",
    "print(\"+\"*20)\n",
    "print(\"Every Image in the Actress Variable is Downloaded\")\n",
    "print(f\"And the total images we have in our = {class_name} -.- class is ->> {len(os.listdir(path))}\")"
   ]
  },
  {
   "cell_type": "code",
   "execution_count": 98,
   "id": "aa33dcd0",
   "metadata": {},
   "outputs": [
    {
     "name": "stdout",
     "output_type": "stream",
     "text": [
      "finished_scrolling\n",
      "Downloaded Complete and we got :-> 20 images\n",
      "++++++++++++++++++++\n",
      "Every Image in the Actress Variable is Downloaded\n",
      "And the total images we have in our = My not so favourite -.- class is ->> 240\n"
     ]
    }
   ],
   "source": [
    "actress = \"Ebony maw\"\n",
    "class_name = \"My not so favourite\"\n",
    "driver = webdriver.Chrome()\n",
    "url = \"https://www.google.com/search?q=ebony+maw&tbm=isch&ved=2ahUKEwiL_6nrnp78AhWagmMGHQ89CmMQ2-cCegQIABAA&oq=ebony&gs_lcp=CgNpbWcQARgAMgQIABBDMgQIABBDMggIABCABBCxAzIICAAQgAQQsQMyBQgAEIAEMgUIABCABDIFCAAQgAQyBQgAEIAEMgUIABCABDIECAAQQzoECCMQJzoHCCMQ6gIQJzoLCAAQgAQQsQMQgwE6BwgAELEDEENQyAdYvw5g_hVoAXAAeACAAVaIAe0DkgEBNpgBAKABAaoBC2d3cy13aXotaW1nsAEKwAEB&sclient=img&ei=KDmtY4vLH5qFjuMPj_qomAY&bih=657&biw=1366&rlz=1C1CHBF_enIN1002IN1002\"\n",
    "driver.get(url)\n",
    "starting_length = driver.execute_script(\"return document.body.scrollHeight\")\n",
    "finished_length = starting_length+1\n",
    "Find_Images = True\n",
    "while (starting_length != finished_length) & (Find_Images):\n",
    "    starting_length = driver.execute_script(\"return document.body.scrollHeight\")\n",
    "    driver.execute_script(\"window.scrollTo(0,document.body.scrollHeight)\")\n",
    "    soup = BeautifulSoup(driver.page_source,\"lxml\")\n",
    "    all_images = soup.find_all(\"div\",class_=\"isv-r PNCib MSM1fd BUooTd\")\n",
    "    try:\n",
    "        all_images = soup.find_all(\"div\",class_=\"isv-r PNCib MSM1fd BUooTd\")\n",
    "        if len(all_images) <= Images_needed:\n",
    "            time.sleep(5)\n",
    "            finished_length = driver.execute_script(\"return document.body.scrollHeight\")\n",
    "        else:\n",
    "            all_images = soup.find_all(\"div\",class_=\"isv-r PNCib MSM1fd BUooTd\")\n",
    "            Find_Images = False\n",
    "    except Exception as e:\n",
    "        print(f\"the exception occured as: {e}\")\n",
    "print(\"finished_scrolling\")\n",
    "soup = BeautifulSoup(driver.page_source,\"html.parser\")\n",
    "all_images = soup.find_all(\"div\",class_=\"isv-r PNCib MSM1fd BUooTd\")\n",
    "\n",
    "\n",
    "path = os.path.join(os.getcwd(),f\"{class_name}\")\n",
    "os.makedirs(path,exist_ok=True)  \n",
    "\n",
    "for i,image_link in enumerate(all_images[:Images_needed]):\n",
    "    image_url = image_link.find(\"img\",class_=\"rg_i Q4LuWd\").get(\"src\")\n",
    "    alt_image_url = image_link.find(\"img\",class_=\"rg_i Q4LuWd\").get(\"data-src\")\n",
    "    try:\n",
    "        urllib.request.urlretrieve(image_url,f\"{path}/{actress}_image_{i}.jpg\")\n",
    "    except Exception as e:\n",
    "        urllib.request.urlretrieve(alt_image_url,f\"{path}/{actress}image_{i}.jpg\")\n",
    "        pass\n",
    "print(f\"Downloaded Complete and we got :-> {len(all_images[:Images_needed])} images\")\n",
    "print(\"+\"*20)\n",
    "print(\"Every Image in the Actress Variable is Downloaded\")\n",
    "print(f\"And the total images we have in our = {class_name} -.- class is ->> {len(os.listdir(path))}\")"
   ]
  },
  {
   "cell_type": "code",
   "execution_count": null,
   "id": "ad22b07f",
   "metadata": {},
   "outputs": [],
   "source": []
  }
 ],
 "metadata": {
  "kernelspec": {
   "display_name": "Python 3",
   "language": "python",
   "name": "python3"
  },
  "language_info": {
   "codemirror_mode": {
    "name": "ipython",
    "version": 3
   },
   "file_extension": ".py",
   "mimetype": "text/x-python",
   "name": "python",
   "nbconvert_exporter": "python",
   "pygments_lexer": "ipython3",
   "version": "3.8.0 (tags/v3.8.0:fa919fd, Oct 14 2019, 19:37:50) [MSC v.1916 64 bit (AMD64)]"
  },
  "toc": {
   "base_numbering": 1,
   "nav_menu": {},
   "number_sections": true,
   "sideBar": true,
   "skip_h1_title": false,
   "title_cell": "Table of Contents",
   "title_sidebar": "Contents",
   "toc_cell": false,
   "toc_position": {
    "height": "calc(100% - 180px)",
    "left": "10px",
    "top": "150px",
    "width": "165px"
   },
   "toc_section_display": true,
   "toc_window_display": true
  },
  "vscode": {
   "interpreter": {
    "hash": "db29d9c3531fbefb8528bf1617aed628388b45e6ce014ed5e5e3db8968ae6306"
   }
  }
 },
 "nbformat": 4,
 "nbformat_minor": 5
}
